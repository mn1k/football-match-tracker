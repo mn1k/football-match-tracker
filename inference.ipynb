{
 "cells": [
  {
   "cell_type": "code",
   "execution_count": 1,
   "id": "85b0a1f4-02b7-4cbe-9323-579d6d0063ce",
   "metadata": {},
   "outputs": [],
   "source": [
    "import cv2\n",
    "import numpy as np\n",
    "import torch"
   ]
  },
  {
   "cell_type": "code",
   "execution_count": null,
   "id": "1c3abc70-efc6-4c31-9e88-f1c99c360e32",
   "metadata": {},
   "outputs": [],
   "source": [
    "!gdown 1aZfni62SjGzjkvsVBy8ZkX1IeTFgIecn"
   ]
  },
  {
   "cell_type": "code",
   "execution_count": 2,
   "id": "3573b753-175c-4b6a-9d0e-3f4893fac50b",
   "metadata": {},
   "outputs": [
    {
     "name": "stderr",
     "output_type": "stream",
     "text": [
      "/bin/sh: 1: git: not found\n",
      "YOLOv5 🚀 2023-11-29 Python-3.10.13 torch-2.1.1 CUDA:0 (NVIDIA A30, 24236MiB)\n",
      "\n",
      "Fusing layers... \n",
      "Model summary: 212 layers, 20865057 parameters, 0 gradients, 47.9 GFLOPs\n",
      "Adding AutoShape... \n"
     ]
    }
   ],
   "source": [
    "model = torch.hub.load('yolov5', 'custom', path='football-det-best.pt', source='local')\n",
    "model.conf = 0.7"
   ]
  },
  {
   "cell_type": "code",
   "execution_count": 3,
   "id": "d0a1cc14-bfe2-46d6-b431-b260285f00e6",
   "metadata": {},
   "outputs": [
    {
     "name": "stdout",
     "output_type": "stream",
     "text": [
      "/home/samateen/football-match-tracker/BoT-SORT\n"
     ]
    }
   ],
   "source": [
    "%cd BoT-SORT"
   ]
  },
  {
   "cell_type": "code",
   "execution_count": 4,
   "id": "86ce45ce-bd74-4088-90b8-255173f3c84a",
   "metadata": {},
   "outputs": [],
   "source": [
    "class TrackerArgs:\n",
    "    track_high_thresh: float = 0.5\n",
    "    track_low_thresh: float = 0.1\n",
    "    new_track_thresh: float = 0.6\n",
    "    track_buffer: int = 30\n",
    "    match_thresh: float = 0.8\n",
    "    aspect_ratio_thresh: float = 1.6\n",
    "    min_box_area: float = 10\n",
    "    mot20: bool = False\n",
    "    appearance_thresh: float = 0.25\n",
    "    proximity_thresh = 0.5\n",
    "    with_reid = False\n",
    "    cmc_method = \"sparseOptFlow\"\n",
    "    name = \"exp\"\n",
    "    ablation = False\n",
    "\n",
    "classes = {\n",
    "    0: 'ball',\n",
    "    1: 'goalie',\n",
    "    2: 'player',\n",
    "    3: 'referee'\n",
    "}"
   ]
  },
  {
   "cell_type": "code",
   "execution_count": 5,
   "id": "96092cda-9f82-4bea-8753-7be7dab1efc4",
   "metadata": {},
   "outputs": [],
   "source": [
    "from tracker.mc_bot_sort import BoTSORT\n",
    "\n",
    "args = TrackerArgs()\n",
    "\n",
    "# Initialize Tracker\n",
    "tracker = BoTSORT(args)\n",
    "\n",
    "cap = cv2.VideoCapture('../test_video.mp4')\n",
    "\n",
    "# Get video frame size and fps\n",
    "frame_width = int(cap.get(cv2.CAP_PROP_FRAME_WIDTH))\n",
    "frame_height = int(cap.get(cv2.CAP_PROP_FRAME_HEIGHT))\n",
    "fps = cap.get(cv2.CAP_PROP_FPS)\n",
    "\n",
    "# Define codec and create a VideoWriter object\n",
    "fourcc = cv2.VideoWriter_fourcc(*'mp4v')  # or use 'XVID'\n",
    "out = cv2.VideoWriter('inference-output.mp4', fourcc, fps, (frame_width, frame_height))\n",
    "\n",
    "while(cap.isOpened()):\n",
    "    ret, frame = cap.read()\n",
    "    if not ret:\n",
    "        break\n",
    "\n",
    "    # Use YOLO model to detect objects\n",
    "    results = model(frame)\n",
    "\n",
    "    # Parse results to get bounding boxes and confidence scores\n",
    "    bboxes = results.xyxy[0][:, :4]  # xyxy format: (x1, y1, x2, y2)\n",
    "    scores = results.xyxy[0][:, 4]\n",
    "\n",
    "    img_size = frame.shape[:2]  # (height, width)\n",
    "    img_info = (frame_height, frame_width)  # original image size\n",
    "\n",
    "    # Use Tracker to track objects\n",
    "    tracked_objects = tracker.update(results.xyxy[0].cpu(), frame)\n",
    "\n",
    "    # Draw tracked objects on the frame\n",
    "    for t in tracked_objects:\n",
    "        tlwh = t.tlwh\n",
    "        tid = t.track_id\n",
    "        tcls = int(t.cls)\n",
    "        vertical = tlwh[2] / tlwh[3] > args.aspect_ratio_thresh\n",
    "        if tlwh[2] * tlwh[3] > args.min_box_area and not vertical:\n",
    "            box = (int(tlwh[0]), int(tlwh[1]), int(tlwh[2]), int(tlwh[3]))\n",
    "            cv2.rectangle(frame, box, (255, 0, 0), 2)\n",
    "            cv2.putText(frame, classes[tcls], (int(tlwh[0]), int(tlwh[1]-10)), cv2.FONT_HERSHEY_SIMPLEX, 0.9, (36,255,12), 2)\n",
    "\n",
    "    # Write the frame into the file 'output.mp4'\n",
    "    out.write(frame)\n",
    "\n",
    "# Release everything after the job is finished\n",
    "cap.release()\n",
    "out.release()"
   ]
  },
  {
   "cell_type": "code",
   "execution_count": null,
   "id": "e8cfb77e-40c2-45ec-80d5-472f45861ff4",
   "metadata": {},
   "outputs": [],
   "source": []
  }
 ],
 "metadata": {
  "kernelspec": {
   "display_name": "Python 3 (ipykernel)",
   "language": "python",
   "name": "python3"
  },
  "language_info": {
   "codemirror_mode": {
    "name": "ipython",
    "version": 3
   },
   "file_extension": ".py",
   "mimetype": "text/x-python",
   "name": "python",
   "nbconvert_exporter": "python",
   "pygments_lexer": "ipython3",
   "version": "3.10.13"
  }
 },
 "nbformat": 4,
 "nbformat_minor": 5
}
